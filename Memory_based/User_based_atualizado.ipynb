{
  "cells": [
    {
      "cell_type": "code",
      "execution_count": 2,
      "metadata": {
        "colab": {
          "base_uri": "https://localhost:8080/",
          "height": 74
        },
        "id": "GZppVMVjxFY7",
        "outputId": "ed9a25d4-41a8-42f9-a0c7-a100d1a0ef1e"
      },
      "outputs": [],
      "source": [
        "import pandas as pd\n",
        "\n",
        "from sklearn.model_selection import train_test_split\n",
        "import numpy as np\n",
        "import math\n",
        "\n"
      ]
    },
    {
      "cell_type": "code",
      "execution_count": 3,
      "metadata": {
        "colab": {
          "base_uri": "https://localhost:8080/",
          "height": 424
        },
        "id": "osFSMgVk-IVX",
        "outputId": "9f306200-83e7-47da-d156-5d068e7d70d4"
      },
      "outputs": [
        {
          "data": {
            "text/html": [
              "<div>\n",
              "<style scoped>\n",
              "    .dataframe tbody tr th:only-of-type {\n",
              "        vertical-align: middle;\n",
              "    }\n",
              "\n",
              "    .dataframe tbody tr th {\n",
              "        vertical-align: top;\n",
              "    }\n",
              "\n",
              "    .dataframe thead th {\n",
              "        text-align: right;\n",
              "    }\n",
              "</style>\n",
              "<table border=\"1\" class=\"dataframe\">\n",
              "  <thead>\n",
              "    <tr style=\"text-align: right;\">\n",
              "      <th></th>\n",
              "      <th>id_user</th>\n",
              "      <th>id_item</th>\n",
              "      <th>ratings</th>\n",
              "      <th>timestamp</th>\n",
              "    </tr>\n",
              "  </thead>\n",
              "  <tbody>\n",
              "    <tr>\n",
              "      <th>54090</th>\n",
              "      <td>736</td>\n",
              "      <td>248</td>\n",
              "      <td>4</td>\n",
              "      <td>878709365</td>\n",
              "    </tr>\n",
              "    <tr>\n",
              "      <th>12888</th>\n",
              "      <td>323</td>\n",
              "      <td>713</td>\n",
              "      <td>4</td>\n",
              "      <td>878739299</td>\n",
              "    </tr>\n",
              "    <tr>\n",
              "      <th>92711</th>\n",
              "      <td>85</td>\n",
              "      <td>715</td>\n",
              "      <td>4</td>\n",
              "      <td>882995967</td>\n",
              "    </tr>\n",
              "    <tr>\n",
              "      <th>2231</th>\n",
              "      <td>160</td>\n",
              "      <td>187</td>\n",
              "      <td>5</td>\n",
              "      <td>876770168</td>\n",
              "    </tr>\n",
              "    <tr>\n",
              "      <th>57089</th>\n",
              "      <td>405</td>\n",
              "      <td>708</td>\n",
              "      <td>1</td>\n",
              "      <td>885546487</td>\n",
              "    </tr>\n",
              "    <tr>\n",
              "      <th>...</th>\n",
              "      <td>...</td>\n",
              "      <td>...</td>\n",
              "      <td>...</td>\n",
              "      <td>...</td>\n",
              "    </tr>\n",
              "    <tr>\n",
              "      <th>64995</th>\n",
              "      <td>429</td>\n",
              "      <td>972</td>\n",
              "      <td>4</td>\n",
              "      <td>882387757</td>\n",
              "    </tr>\n",
              "    <tr>\n",
              "      <th>55210</th>\n",
              "      <td>685</td>\n",
              "      <td>873</td>\n",
              "      <td>2</td>\n",
              "      <td>879451401</td>\n",
              "    </tr>\n",
              "    <tr>\n",
              "      <th>66460</th>\n",
              "      <td>896</td>\n",
              "      <td>76</td>\n",
              "      <td>3</td>\n",
              "      <td>887158359</td>\n",
              "    </tr>\n",
              "    <tr>\n",
              "      <th>50788</th>\n",
              "      <td>721</td>\n",
              "      <td>1392</td>\n",
              "      <td>3</td>\n",
              "      <td>877137598</td>\n",
              "    </tr>\n",
              "    <tr>\n",
              "      <th>60143</th>\n",
              "      <td>798</td>\n",
              "      <td>155</td>\n",
              "      <td>3</td>\n",
              "      <td>875639581</td>\n",
              "    </tr>\n",
              "  </tbody>\n",
              "</table>\n",
              "<p>79992 rows × 4 columns</p>\n",
              "</div>"
            ],
            "text/plain": [
              "       id_user  id_item  ratings  timestamp\n",
              "54090      736      248        4  878709365\n",
              "12888      323      713        4  878739299\n",
              "92711       85      715        4  882995967\n",
              "2231       160      187        5  876770168\n",
              "57089      405      708        1  885546487\n",
              "...        ...      ...      ...        ...\n",
              "64995      429      972        4  882387757\n",
              "55210      685      873        2  879451401\n",
              "66460      896       76        3  887158359\n",
              "50788      721     1392        3  877137598\n",
              "60143      798      155        3  875639581\n",
              "\n",
              "[79992 rows x 4 columns]"
            ]
          },
          "execution_count": 3,
          "metadata": {},
          "output_type": "execute_result"
        }
      ],
      "source": [
        "columnts = ['id_user', 'id_item', 'ratings', 'timestamp']\n",
        "\n",
        "df= pd.read_csv('u.data', sep ='\\t', header = None, names = columnts, index_col = False)\n",
        "\n",
        "\n",
        "X_train, X_test= train_test_split(df, test_size=0.1, random_state=42)\n",
        "X_base, X_val, = train_test_split(X_train, test_size=0.1112, random_state=62)\n",
        "\n",
        "Media_notas = df[\"ratings\"].sum()/len(df)\n",
        "row = np.max(df['id_user'])\n",
        "col = np.max(df['id_item'])\n",
        "\n",
        "X_base"
      ]
    },
    {
      "cell_type": "code",
      "execution_count": 4,
      "metadata": {
        "id": "Wi6KYRGCCp2w"
      },
      "outputs": [],
      "source": [
        "def m_base(data):\n",
        "  matriz = np.zeros((row, col), float)\n",
        "  for i, info in data.iterrows():\n",
        "    user = info.id_user -1;\n",
        "    item = info.id_item -1;\n",
        "    matriz[user][item] = info.ratings\n",
        "  matriz\n",
        "  return matriz"
      ]
    },
    {
      "cell_type": "code",
      "execution_count": 5,
      "metadata": {
        "colab": {
          "base_uri": "https://localhost:8080/"
        },
        "id": "LPBxALBnN1R0",
        "outputId": "0c2f1306-e5fb-4897-db16-3f117b3089eb"
      },
      "outputs": [
        {
          "data": {
            "text/plain": [
              "array([[5., 3., 4., ..., 0., 0., 0.],\n",
              "       [4., 0., 0., ..., 0., 0., 0.],\n",
              "       [0., 0., 0., ..., 0., 0., 0.],\n",
              "       ...,\n",
              "       [5., 0., 0., ..., 0., 0., 0.],\n",
              "       [0., 0., 0., ..., 0., 0., 0.],\n",
              "       [0., 0., 0., ..., 0., 0., 0.]])"
            ]
          },
          "execution_count": 5,
          "metadata": {},
          "output_type": "execute_result"
        }
      ],
      "source": [
        "pam_calc = []\n",
        "matriz = m_base(X_base)\n",
        "matriz"
      ]
    },
    {
      "cell_type": "code",
      "execution_count": 6,
      "metadata": {
        "id": "YnwWabwFNyuy"
      },
      "outputs": [],
      "source": [
        "def M_user(matriz):\n",
        "  df_review = pd.DataFrame({\"qtd_notas\" : np.zeros(row, int),\n",
        "                         \"somatorio\" : np.zeros(row, float)})\n",
        "  for i in range(0, row):\n",
        "    for j in range(0, col):\n",
        "      if matriz[i][j] > 0:\n",
        "        df_review.iloc[i,0] += 1\n",
        "        df_review.iloc[i,1] += matriz[i][j]\n",
        "\n",
        "  u_medias = df_review['somatorio']/ df_review['qtd_notas']\n",
        "\n",
        "  return u_medias, df_review['qtd_notas']"
      ]
    },
    {
      "cell_type": "code",
      "execution_count": 7,
      "metadata": {
        "id": "USy-2K4eWELq"
      },
      "outputs": [],
      "source": [
        "medias, M_qtd = M_user(matriz)"
      ]
    },
    {
      "cell_type": "code",
      "execution_count": 8,
      "metadata": {
        "id": "CUJNj4e8K4mR"
      },
      "outputs": [],
      "source": [
        "def itens_comuns(u,v):\n",
        "  itens = []\n",
        "  sum = 0\n",
        "  for i in range(0, len(u)):\n",
        "    if u[i] != 0 and v[i] != 0:\n",
        "      itens.append(i)\n",
        "\n",
        "  return itens\n"
      ]
    },
    {
      "cell_type": "markdown",
      "metadata": {
        "id": "yHxXYM1nC-mq"
      },
      "source": [
        "# **Similaridade de Cosseno**"
      ]
    },
    {
      "cell_type": "code",
      "execution_count": 9,
      "metadata": {
        "id": "nyqa6A7bCrJU"
      },
      "outputs": [],
      "source": [
        "def calc_divisorCos(u,v):\n",
        "  sum_u = 0\n",
        "  sum_v = 0\n",
        "  itens_u = []\n",
        "  itens_v = []\n",
        "  for i in range(0, len(u)):\n",
        "    if u[i] != 0:\n",
        "      itens_u.append(i)\n",
        "    if v[i] != 0:\n",
        "     itens_v.append(i)\n",
        "\n",
        "  for j in itens_u:\n",
        "      sum_u += u[j]**2\n",
        "  for k in itens_v:\n",
        "      sum_v += v[k]**2\n",
        "\n",
        "  return sum_u*sum_v\n",
        "\n",
        "def similaridade_cosseno(matriz):\n",
        "  similaridade = np.zeros((row, row), float)\n",
        "\n",
        "  for i in range(0,row):\n",
        "    for j in range(i,row):\n",
        "      if(i==j):\n",
        "        similaridade[i,j] = 1\n",
        "        continue\n",
        "\n",
        "      sum = 0\n",
        "      a = matriz[i,0:]\n",
        "      b = matriz[j,0:]\n",
        "      itens_c = itens_comuns(a,b)\n",
        "      for k in itens_c:\n",
        "       sum += matriz[i][k]*matriz[j][k]\n",
        "\n",
        "      divisor = math.sqrt(calc_divisorCos(matriz[i,0:], matriz[j,0:]))\n",
        "      similaridade[i][j] = sum/divisor\n",
        "      similaridade[j][i] = similaridade[i][j]\n",
        "  return similaridade\n",
        "\n"
      ]
    },
    {
      "cell_type": "code",
      "execution_count": 10,
      "metadata": {
        "id": "pB_TkyCBtn8C"
      },
      "outputs": [],
      "source": [
        "similar_a = similaridade_cosseno(matriz)"
      ]
    },
    {
      "cell_type": "code",
      "execution_count": 11,
      "metadata": {
        "colab": {
          "base_uri": "https://localhost:8080/"
        },
        "id": "Q-JcTlA85zBx",
        "outputId": "eaf379a2-5cc9-4cca-90a5-924ac2e34d3c"
      },
      "outputs": [
        {
          "data": {
            "text/plain": [
              "array([[1.        , 0.12524512, 0.01675931, ..., 0.13183938, 0.09790009,\n",
              "        0.31355682],\n",
              "       [0.12524512, 1.        , 0.09461258, ..., 0.08821128, 0.16292235,\n",
              "        0.05478139],\n",
              "       [0.01675931, 0.09461258, 1.        , ..., 0.        , 0.12272133,\n",
              "        0.01369132],\n",
              "       ...,\n",
              "       [0.13183938, 0.08821128, 0.        , ..., 1.        , 0.03394827,\n",
              "        0.12493734],\n",
              "       [0.09790009, 0.16292235, 0.12272133, ..., 0.03394827, 1.        ,\n",
              "        0.11289456],\n",
              "       [0.31355682, 0.05478139, 0.01369132, ..., 0.12493734, 0.11289456,\n",
              "        1.        ]])"
            ]
          },
          "execution_count": 11,
          "metadata": {},
          "output_type": "execute_result"
        }
      ],
      "source": [
        "pam_calc.append(similar_a)\n",
        "pam_calc[0]"
      ]
    },
    {
      "cell_type": "markdown",
      "metadata": {
        "id": "J6NLGoP4R17Y"
      },
      "source": [
        "# **Similaridade De Pearson**"
      ]
    },
    {
      "cell_type": "code",
      "execution_count": 12,
      "metadata": {
        "id": "lzvaIHcfMzFV"
      },
      "outputs": [],
      "source": [
        "def calc_divisorPearson(u,v, mU, mV):\n",
        "  sum_u = 0\n",
        "  sum_v = 0\n",
        "  itens_k = []\n",
        "\n",
        "  itens_k = itens_comuns(u,v)\n",
        "  for j in itens_k:\n",
        "      sum_u += (u[j]-mU)**2\n",
        "      sum_v += (v[j]-mV)**2\n",
        "  return sum_u*sum_v\n",
        "\n",
        "def similaridade_pearson(matriz):\n",
        "  similaridade = np.zeros((row,row), float)\n",
        "  for i in range(0, row):\n",
        "    for j in range(i,row):\n",
        "      if(i==j):\n",
        "        similaridade[i,j] = 1\n",
        "        continue\n",
        "      parcial1 = 0\n",
        "      parcial2 = 0\n",
        "      a = matriz[i,0:]\n",
        "      b = matriz[j,0:]\n",
        "      itens_c = itens_comuns(a,b)\n",
        "\n",
        "      if(len(itens_c) == 0):\n",
        "        continue\n",
        "\n",
        "\n",
        "      for k in itens_c:\n",
        "        parcial1 += (matriz[i][k] - medias[i])*(matriz[j][k] - medias[j])\n",
        "\n",
        "      parcial2 = math.sqrt(calc_divisorPearson(matriz[i,0:], matriz[j,0:], medias[i], medias[j]))\n",
        "\n",
        "\n",
        "      similaridade[i][j] = 0 if math.isnan(parcial1/parcial2) else parcial1/parcial2\n",
        "      similaridade[j][i] = similaridade[i][j]\n",
        "  return similaridade\n"
      ]
    },
    {
      "cell_type": "code",
      "execution_count": 13,
      "metadata": {
        "colab": {
          "base_uri": "https://localhost:8080/"
        },
        "id": "mW4iE8uECy9s",
        "outputId": "dc5c969a-a7f3-4836-ccde-327345413348"
      },
      "outputs": [
        {
          "name": "stderr",
          "output_type": "stream",
          "text": [
            "/tmp/ipykernel_13797/1996271984.py:35: RuntimeWarning: invalid value encountered in scalar divide\n",
            "  similaridade[i][j] = 0 if math.isnan(parcial1/parcial2) else parcial1/parcial2\n"
          ]
        }
      ],
      "source": [
        "similar_b = similaridade_pearson(matriz)"
      ]
    },
    {
      "cell_type": "code",
      "execution_count": 14,
      "metadata": {
        "colab": {
          "base_uri": "https://localhost:8080/"
        },
        "id": "HM9GF-qRGnGA",
        "outputId": "db76f032-24f2-4c40-e2c3-1d476645ddf1"
      },
      "outputs": [
        {
          "data": {
            "text/plain": [
              "array([[ 1.        ,  0.35761538, -0.27342709, ...,  0.16257305,\n",
              "        -0.36017554,  0.23907972],\n",
              "       [ 0.35761538,  1.        ,  0.01868906, ...,  0.15506715,\n",
              "        -0.03715266,  0.63258794],\n",
              "       [-0.27342709,  0.01868906,  1.        , ...,  0.        ,\n",
              "         0.4202462 , -1.        ],\n",
              "       ...,\n",
              "       [ 0.16257305,  0.15506715,  0.        , ...,  1.        ,\n",
              "        -1.        ,  0.01924485],\n",
              "       [-0.36017554, -0.03715266,  0.4202462 , ..., -1.        ,\n",
              "         1.        ,  0.21800963],\n",
              "       [ 0.23907972,  0.63258794, -1.        , ...,  0.01924485,\n",
              "         0.21800963,  1.        ]])"
            ]
          },
          "execution_count": 14,
          "metadata": {},
          "output_type": "execute_result"
        }
      ],
      "source": [
        "pam_calc.append(similar_b)\n",
        "similar_b"
      ]
    },
    {
      "cell_type": "markdown",
      "metadata": {
        "id": "xbSx-Bq3cJ0T"
      },
      "source": [
        "# **Similaridade padrão**"
      ]
    },
    {
      "cell_type": "code",
      "execution_count": 15,
      "metadata": {
        "id": "9OaTtTuLw9aF"
      },
      "outputs": [],
      "source": [
        "def similaridade_ind(u,v):\n",
        "  itens = []\n",
        "  x = []\n",
        "  y = []\n",
        "  itens = itens_comuns(u,v)\n",
        "\n",
        "  if(len(itens) == 0):\n",
        "    return 0;\n",
        "  for j in itens:\n",
        "    x.append(u[j])\n",
        "    y.append(v[j])\n",
        " # print(x, \"\\n\", y)\n",
        "\n",
        "  return np.dot(x,y)/(np.linalg.norm(x)*np.linalg.norm(y))\n",
        "\n",
        "def similaridade_padrao(matriz_notas):\n",
        "  matriz_similar = np.zeros((row,row), float)\n",
        "  for i in range(0,row):\n",
        "    for j in range(i,row):\n",
        "      if(i==j):\n",
        "        matriz_similar[i,j] = 1\n",
        "        continue\n",
        "      sum = 0\n",
        "      a = matriz[i,:]\n",
        "      b = matriz[j,:]\n",
        "\n",
        "      matriz_similar[i][j] = similaridade_ind(a,b)\n",
        "      matriz_similar[j][i] = matriz_similar[i][j]\n",
        "  return matriz_similar"
      ]
    },
    {
      "cell_type": "code",
      "execution_count": 16,
      "metadata": {
        "id": "hYHpBxqb1qzZ"
      },
      "outputs": [],
      "source": [
        "similar_c = similaridade_padrao(matriz)"
      ]
    },
    {
      "cell_type": "code",
      "execution_count": 17,
      "metadata": {
        "id": "8hDiVHKwNMCh"
      },
      "outputs": [],
      "source": [
        "pam_calc.append(similar_c)\n"
      ]
    },
    {
      "cell_type": "markdown",
      "metadata": {
        "id": "BpW-4x4qbdf5"
      },
      "source": [
        "# **Previsão da classificação**"
      ]
    },
    {
      "cell_type": "code",
      "execution_count": 18,
      "metadata": {
        "id": "iOtgoaxYFWsd"
      },
      "outputs": [],
      "source": [
        "def viz_similar(m_similar, m_notas, item, user, min_notas, qtd):\n",
        "  viz = pd.DataFrame({\"u_viz\": m_similar[user,0:],\n",
        "                      \"id_viz\": np.arange(0, row, 1)})\n",
        "  viz_f = []\n",
        "  k = 0;\n",
        "  viz = viz[viz[\"id_viz\"] != user]\n",
        "  viz = viz.sort_values(by = \"u_viz\", ascending = False)\n",
        "  for i in viz[\"id_viz\"]:\n",
        "    if  M_qtd[i] > min_notas:\n",
        "      if(m_notas[i, item] != 0 and k<qtd):\n",
        "        viz_f.append(i)\n",
        "        k +=1\n",
        "\n",
        "  return viz_f"
      ]
    },
    {
      "cell_type": "code",
      "execution_count": 57,
      "metadata": {
        "id": "B1Hlzyu4EENW"
      },
      "outputs": [],
      "source": [
        "def prev_item(m_similar, m_notas,  item, user, min_notas, k):\n",
        "  calc = 0;\n",
        "  viz_s = []\n",
        "  viz_s = viz_similar(m_similar, m_notas, item, user, min_notas, k)\n",
        "  num = 0\n",
        "  divisor = 0\n",
        "\n",
        "  if len(viz_s) != k:\n",
        "    return medias[user]\n",
        "\n",
        "  for i in viz_s:\n",
        "    num += m_similar[user, i]*(m_notas[i, item] - medias[i])\n",
        "    divisor += abs(m_similar[user,i])\n",
        "    #print(num, divisor)\n",
        "\n",
        "\n",
        "  return medias[user] + num/divisor"
      ]
    },
    {
      "cell_type": "markdown",
      "metadata": {
        "id": "AK6AyXhtcAZR"
      },
      "source": [
        "# **Cálculo de MAE e RMSE**"
      ]
    },
    {
      "cell_type": "code",
      "execution_count": 56,
      "metadata": {
        "id": "U1kYrS_PiASZ"
      },
      "outputs": [],
      "source": [
        "def taxa_erro(m_similar, m_notas, gabarito, min_notas, viz = 5):\n",
        "\n",
        "  df_comp = pd.DataFrame({\"nota_prev\": np.zeros(len(gabarito), float),\n",
        "                          \"nota_real\": gabarito['ratings']})\n",
        "  sum_MAE= 0\n",
        "  sum_RMSE = 0\n",
        "  n = len(gabarito)\n",
        "  for i, info in gabarito.iterrows():\n",
        "    user = info.id_user -1\n",
        "    item = info.id_item -1\n",
        "    #print(\"usuario\", user, \"\\n item\", item)\n",
        "    y_p = prev_item(m_similar, m_notas, item, user, min_notas, viz,)\n",
        "    sum_MAE += abs(info.ratings - y_p )\n",
        "    sum_RMSE += (info.ratings - y_p)**2\n",
        "\n",
        "  MAE = sum_MAE/n\n",
        "  RMSE = math.sqrt(sum_RMSE/n)\n",
        "  print(MAE, RMSE )"
      ]
    },
    {
      "cell_type": "code",
      "execution_count": 59,
      "metadata": {},
      "outputs": [],
      "source": [
        "import pandas as pd\n",
        "import numpy as np\n",
        "import math\n",
        "\n",
        "\n",
        "def taxa_erro(m_similar, m_notas, gabarito, min_notas, viz=5, threshold=3):\n",
        "    df_comp = pd.DataFrame({\"nota_prev\": np.zeros(len(gabarito), float),\n",
        "                            \"nota_real\": gabarito['ratings']})\n",
        "    sum_MAE = 0\n",
        "    sum_RMSE = 0\n",
        "    n = len(gabarito)\n",
        "    TP = FP = TN = FN = 0\n",
        "    \n",
        "    for i, info in gabarito.iterrows():\n",
        "        user = info.id_user - 1\n",
        "        item = info.id_item - 1\n",
        "        y_p = prev_item(m_similar, m_notas, item, user, min_notas, viz)\n",
        "\n",
        "        if not math.isnan(y_p):\n",
        "            # Calculate errors for MAE and RMSE\n",
        "            sum_MAE += abs(info.ratings - y_p)\n",
        "            sum_RMSE += (info.ratings - y_p) ** 2\n",
        "                \n",
        "        \n",
        "        # Binarize the ratings based on the threshold\n",
        "        actual = info.ratings >= threshold\n",
        "        predicted = y_p >= threshold\n",
        "        \n",
        "        # Calculate TP, FP, TN, FN\n",
        "        if actual and predicted:\n",
        "            TP += 1\n",
        "        elif actual and not predicted:\n",
        "            FN += 1\n",
        "        elif not actual and predicted:\n",
        "            FP += 1\n",
        "        else:\n",
        "            TN += 1\n",
        "    \n",
        "    MAE = sum_MAE / n\n",
        "    RMSE = math.sqrt(sum_RMSE / n)\n",
        "    \n",
        "    # Calculate precision, recall, and F1-score\n",
        "    precision = TP / (TP + FP) if TP + FP > 0 else 0\n",
        "    recall = TP / (TP + FN) if TP + FN > 0 else 0\n",
        "    f1_score = 2 * (precision * recall) / (precision + recall) if precision + recall > 0 else 0\n",
        "    \n",
        "    print(f\"MAE: {MAE}, RMSE: {RMSE}\")\n",
        "    print(f\"Precision: {precision}, Recall: {recall}, F1-score: {f1_score}\")\n",
        "    return MAE, RMSE, precision, recall, f1_score\n"
      ]
    },
    {
      "cell_type": "code",
      "execution_count": 61,
      "metadata": {
        "colab": {
          "base_uri": "https://localhost:8080/"
        },
        "id": "GE1IZhTDAByx",
        "outputId": "a13f1eeb-f920-4416-f6e7-afb90817469d"
      },
      "outputs": [
        {
          "name": "stdout",
          "output_type": "stream",
          "text": [
            "Equação Cosseno qtd de vizinhos: 5 qtd minima de notas: 0\n",
            "MAE: 0.7818703252096126, RMSE: 0.9909355721630524\n",
            "Precision: 0.8964640040702111, Recall: 0.8491566265060241, F1-score: 0.872169285979458\n",
            "Equação Cosseno qtd de vizinhos: 5 qtd minima de notas: 20\n",
            "MAE: 0.7818102471043538, RMSE: 0.9909086631966193\n",
            "Precision: 0.8960396039603961, Recall: 0.8504819277108434, F1-score: 0.8726665842502164\n",
            "Equação Cosseno qtd de vizinhos: 5 qtd minima de notas: 40\n",
            "MAE: 0.7838550702671249, RMSE: 0.9938112089058093\n",
            "Precision: 0.8969059092061882, Recall: 0.8521686746987952, F1-score: 0.8739651550722848\n",
            "Equação Cosseno qtd de vizinhos: 5 qtd minima de notas: 60\n",
            "MAE: 0.784883474718227, RMSE: 0.996235481205864\n",
            "Precision: 0.8951409869083585, Recall: 0.8567469879518073, F1-score: 0.8755232701305097\n",
            "\n",
            "\n",
            "\n",
            "\n",
            "Media MAE: 0.7831047793248296 Media RMSE: 0.9929727313678363 Media Precision: 0.8961376260362884 Media Recall: 0.8521385542168675 Media F1-Score: 0.8735810738581172\n",
            "Equação Cosseno qtd de vizinhos: 10 qtd minima de notas: 0\n",
            "MAE: 0.754059436088962, RMSE: 0.958475331309756\n",
            "Precision: 0.8940520446096655, Recall: 0.869277108433735, F1-score: 0.8814905314599878\n",
            "Equação Cosseno qtd de vizinhos: 10 qtd minima de notas: 20\n",
            "MAE: 0.7544392734175822, RMSE: 0.9591868586268297\n",
            "Precision: 0.8943260654112983, Recall: 0.8697590361445783, F1-score: 0.8818714879061813\n",
            "Equação Cosseno qtd de vizinhos: 10 qtd minima de notas: 40\n",
            "MAE: 0.7568668751038143, RMSE: 0.9622194394432537\n",
            "Precision: 0.8942676736412034, Recall: 0.8702409638554217, F1-score: 0.8820907370092202\n",
            "Equação Cosseno qtd de vizinhos: 10 qtd minima de notas: 60\n",
            "MAE: 0.7563063288140158, RMSE: 0.9621787403690639\n",
            "Precision: 0.8938085841144549, Recall: 0.873132530120482, F1-score: 0.8833495855680157\n",
            "\n",
            "\n",
            "\n",
            "\n",
            "Media MAE: 0.7554179783560936 Media RMSE: 0.9605150924372259 Media Precision: 0.8941135919441555 Media Recall: 0.8706024096385543 Media F1-Score: 0.8822005854858512\n",
            "Equação Cosseno qtd de vizinhos: 15 qtd minima de notas: 0\n",
            "MAE: 0.7500575118108165, RMSE: 0.9540017942196249\n",
            "Precision: 0.8902319902319902, Recall: 0.8784337349397591, F1-score: 0.8842935112189205\n",
            "Equação Cosseno qtd de vizinhos: 15 qtd minima de notas: 20\n",
            "MAE: 0.7504333899680207, RMSE: 0.9544938300789017\n",
            "Precision: 0.890379222046092, Recall: 0.8797590361445783, F1-score: 0.8850372704684564\n",
            "Equação Cosseno qtd de vizinhos: 15 qtd minima de notas: 40\n",
            "MAE: 0.7519429990613848, RMSE: 0.9566249151544619\n",
            "Precision: 0.8895384240652783, Recall: 0.88, F1-score: 0.8847435043304464\n",
            "Equação Cosseno qtd de vizinhos: 15 qtd minima de notas: 60\n",
            "MAE: 0.7517070268964273, RMSE: 0.9576643482487097\n",
            "Precision: 0.8894154818325435, Recall: 0.8818072289156627, F1-score: 0.8855950148224333\n",
            "\n",
            "\n",
            "\n",
            "\n",
            "Media MAE: 0.7510352319341623 Media RMSE: 0.9556962219254245 Media Precision: 0.889891279543976 Media Recall: 0.88 Media F1-Score: 0.8849173252100642\n",
            "Equação Cosseno qtd de vizinhos: 20 qtd minima de notas: 0\n",
            "MAE: 0.7492205830153947, RMSE: 0.9538621665609155\n",
            "Precision: 0.887381932671349, Recall: 0.8828915662650603, F1-score: 0.8851310544751781\n",
            "Equação Cosseno qtd de vizinhos: 20 qtd minima de notas: 20\n",
            "MAE: 0.748937805474113, RMSE: 0.9539317049970917\n",
            "Precision: 0.8875861235343889, Recall: 0.8846987951807229, F1-score: 0.8861401074036083\n",
            "Equação Cosseno qtd de vizinhos: 20 qtd minima de notas: 40\n",
            "MAE: 0.7512050718041319, RMSE: 0.9578098501923505\n",
            "Precision: 0.8856970428485215, Recall: 0.8840963855421686, F1-score: 0.8848959903527285\n",
            "Equação Cosseno qtd de vizinhos: 20 qtd minima de notas: 60\n",
            "MAE: 0.7520742621138161, RMSE: 0.9597969534579571\n",
            "Precision: 0.8855595667870036, Recall: 0.8866265060240964, F1-score: 0.8860927152317881\n",
            "\n",
            "\n",
            "\n",
            "\n",
            "Media MAE: 0.7503594306018639 Media RMSE: 0.9563501688020788 Media Precision: 0.8865561664603158 Media Recall: 0.8845783132530122 Media F1-Score: 0.8855649668658258\n",
            "Equação Cosseno qtd de vizinhos: 25 qtd minima de notas: 0\n",
            "MAE: 0.7507555793142409, RMSE: 0.955732767995009\n",
            "Precision: 0.8862792091072499, Recall: 0.8910843373493976, F1-score: 0.8886752778612197\n",
            "Equação Cosseno qtd de vizinhos: 25 qtd minima de notas: 20\n",
            "MAE: 0.7509183271489659, RMSE: 0.9560868068191103\n",
            "Precision: 0.8859502154140737, Recall: 0.8919277108433735, F1-score: 0.8889289145052833\n",
            "Equação Cosseno qtd de vizinhos: 25 qtd minima de notas: 40\n",
            "MAE: 0.7539397262994738, RMSE: 0.9604527361697104\n",
            "Precision: 0.884243220642695, Recall: 0.8918072289156627, F1-score: 0.8880091176294163\n",
            "Equação Cosseno qtd de vizinhos: 25 qtd minima de notas: 60\n",
            "MAE: 0.7544628427105365, RMSE: 0.961864164002955\n",
            "Precision: 0.8829964328180737, Recall: 0.8946987951807229, F1-score: 0.8888090963494912\n",
            "\n",
            "\n",
            "\n",
            "\n",
            "Media MAE: 0.7525191188683044 Media RMSE: 0.9585341187466961 Media Precision: 0.8848672694955231 Media Recall: 0.8923795180722892 Media F1-Score: 0.8886056015863526\n",
            "Equação Cosseno qtd de vizinhos: 30 qtd minima de notas: 0\n",
            "MAE: 0.7534859876765939, RMSE: 0.9591035750155739\n",
            "Precision: 0.8828850273744346, Recall: 0.8937349397590362, F1-score: 0.8882768530714885\n",
            "Equação Cosseno qtd de vizinhos: 30 qtd minima de notas: 20\n",
            "MAE: 0.7536613561909467, RMSE: 0.9595190326786391\n",
            "Precision: 0.8828282828282829, Recall: 0.8950602409638554, F1-score: 0.8889021836673646\n",
            "Equação Cosseno qtd de vizinhos: 30 qtd minima de notas: 40\n",
            "MAE: 0.7563770556576253, RMSE: 0.963597226568143\n",
            "Precision: 0.8806093528578177, Recall: 0.8984337349397591, F1-score: 0.8894322519083969\n",
            "Equação Cosseno qtd de vizinhos: 30 qtd minima de notas: 60\n",
            "MAE: 0.7588175048268817, RMSE: 0.9665877655070698\n",
            "Precision: 0.8803963198867657, Recall: 0.899277108433735, F1-score: 0.8897365597806651\n",
            "\n",
            "\n",
            "\n",
            "\n",
            "Media MAE: 0.7555854760880119 Media RMSE: 0.9622018999423565 Media Precision: 0.8816797457368253 Media Recall: 0.8966265060240964 Media F1-Score: 0.8890869621069788\n",
            "\n",
            "\n",
            "Equação Pearson qtd de vizinhos: 5 qtd minima de notas: 0\n",
            "MAE: 0.8095503535513774, RMSE: 1.023512087695648\n",
            "Precision: 0.8961528463737978, Recall: 0.8307228915662651, F1-score: 0.8621983243716393\n",
            "Equação Pearson qtd de vizinhos: 5 qtd minima de notas: 20\n",
            "MAE: 0.8052546892427552, RMSE: 1.0186202668900468\n",
            "Precision: 0.8969878732559656, Recall: 0.8287951807228916, F1-score: 0.8615442419688146\n",
            "Equação Pearson qtd de vizinhos: 5 qtd minima de notas: 40\n",
            "MAE: 0.7987807040318097, RMSE: 1.0148695278032298\n",
            "Precision: 0.899805321219987, Recall: 0.835301204819277, F1-score: 0.8663542642924085\n",
            "Equação Pearson qtd de vizinhos: 5 qtd minima de notas: 60\n",
            "MAE: 0.7957268672002632, RMSE: 1.0118604780325005\n",
            "Precision: 0.8980544747081712, Recall: 0.8342168674698796, F1-score: 0.8649594003747659\n",
            "\n",
            "\n",
            "\n",
            "\n",
            "Media MAE: 0.8023281535065514 Media RMSE: 1.0172155901053561 Media Precision: 0.8977501288894804 Media Recall: 0.8322590361445783 Media F1-Score: 0.8637640577519071\n",
            "Equação Pearson qtd de vizinhos: 10 qtd minima de notas: 0\n",
            "MAE: 0.7732920138309185, RMSE: 0.9786708798719548\n",
            "Precision: 0.895610615016979, Recall: 0.8579518072289156, F1-score: 0.8763768383484093\n",
            "Equação Pearson qtd de vizinhos: 10 qtd minima de notas: 20\n",
            "MAE: 0.7714005640981006, RMSE: 0.9761822924757979\n",
            "Precision: 0.8954699460409086, Recall: 0.8597590361445783, F1-score: 0.8772512139652099\n",
            "Equação Pearson qtd de vizinhos: 10 qtd minima de notas: 40\n",
            "MAE: 0.7684596251199834, RMSE: 0.9755861296106089\n",
            "Precision: 0.8969994957135653, Recall: 0.8572289156626506, F1-score: 0.8766633809758502\n",
            "Equação Pearson qtd de vizinhos: 10 qtd minima de notas: 60\n",
            "MAE: 0.7639947254400842, RMSE: 0.9714903220749094\n",
            "Precision: 0.8970662620131512, Recall: 0.8546987951807229, F1-score: 0.8753701875616979\n",
            "\n",
            "\n",
            "\n",
            "\n",
            "Media MAE: 0.7692867321222717 Media RMSE: 0.9754824060083178 Media Precision: 0.8962865796961511 Media Recall: 0.8574096385542169 Media F1-Score: 0.8764154052127918\n",
            "Equação Pearson qtd de vizinhos: 15 qtd minima de notas: 0\n",
            "MAE: 0.7616420633990878, RMSE: 0.9656962018792831\n",
            "Precision: 0.8913528245787908, Recall: 0.8668674698795181, F1-score: 0.8789396530662106\n",
            "Equação Pearson qtd de vizinhos: 15 qtd minima de notas: 20\n",
            "MAE: 0.7606109641542814, RMSE: 0.9641592351196461\n",
            "Precision: 0.8922981366459627, Recall: 0.8654216867469879, F1-score: 0.8786544342507645\n",
            "Equação Pearson qtd de vizinhos: 15 qtd minima de notas: 40\n",
            "MAE: 0.7581287230983237, RMSE: 0.9626866375346589\n",
            "Precision: 0.8933731938216243, Recall: 0.8640963855421687, F1-score: 0.8784909358157766\n",
            "Equação Pearson qtd de vizinhos: 15 qtd minima de notas: 60\n",
            "MAE: 0.7556782054337524, RMSE: 0.9615087580666604\n",
            "Precision: 0.8925414020669904, Recall: 0.8636144578313253, F1-score: 0.8778396913844834\n",
            "\n",
            "\n",
            "\n",
            "\n",
            "Media MAE: 0.7590149890213613 Media RMSE: 0.9635127081500621 Media Precision: 0.892391389278342 Media Recall: 0.8650000000000001 Media F1-Score: 0.8784811786293087\n",
            "Equação Pearson qtd de vizinhos: 20 qtd minima de notas: 0\n",
            "MAE: 0.7573746178970037, RMSE: 0.9617329774119319\n",
            "Precision: 0.8906192519926426, Recall: 0.8750602409638554, F1-score: 0.8827711941659071\n",
            "Equação Pearson qtd de vizinhos: 20 qtd minima de notas: 20\n",
            "MAE: 0.7573131411505537, RMSE: 0.9612417104494687\n",
            "Precision: 0.8916963081074452, Recall: 0.8759036144578313, F1-score: 0.8837294110496567\n",
            "Equação Pearson qtd de vizinhos: 20 qtd minima de notas: 40\n",
            "MAE: 0.7557673227218091, RMSE: 0.9611024989539267\n",
            "Precision: 0.8907862407862408, Recall: 0.8736144578313253, F1-score: 0.8821167883211678\n",
            "Equação Pearson qtd de vizinhos: 20 qtd minima de notas: 60\n",
            "MAE: 0.7547409191298222, RMSE: 0.9622419739941014\n",
            "Precision: 0.8890926876987039, Recall: 0.8760240963855421, F1-score: 0.8825100133511349\n",
            "\n",
            "\n",
            "\n",
            "\n",
            "Media MAE: 0.7562990002247971 Media RMSE: 0.9615797902023572 Media Precision: 0.8905486221462582 Media Recall: 0.8751506024096385 Media F1-Score: 0.8827818517219667\n",
            "Equação Pearson qtd de vizinhos: 25 qtd minima de notas: 0\n",
            "MAE: 0.7572580358488106, RMSE: 0.9617758401814772\n",
            "Precision: 0.8870303030303031, Recall: 0.8816867469879518, F1-score: 0.8843504531722053\n",
            "Equação Pearson qtd de vizinhos: 25 qtd minima de notas: 20\n",
            "MAE: 0.756475733504126, RMSE: 0.9602731765833007\n",
            "Precision: 0.8873256519102486, Recall: 0.8814457831325301, F1-score: 0.8843759443940766\n",
            "Equação Pearson qtd de vizinhos: 25 qtd minima de notas: 40\n",
            "MAE: 0.7569733605707446, RMSE: 0.9630240587717722\n",
            "Precision: 0.8858425330583526, Recall: 0.8797590361445783, F1-score: 0.8827903040560964\n",
            "Equação Pearson qtd de vizinhos: 25 qtd minima de notas: 60\n",
            "MAE: 0.7554542383527465, RMSE: 0.9632990308240587\n",
            "Precision: 0.8853587823145688, Recall: 0.8830120481927711, F1-score: 0.8841838581252264\n",
            "\n",
            "\n",
            "\n",
            "\n",
            "Media MAE: 0.756540342069107 Media RMSE: 0.9620930265901522 Media Precision: 0.8863893175783683 Media Recall: 0.8814759036144578 Media F1-Score: 0.8839251399369012\n",
            "Equação Pearson qtd de vizinhos: 30 qtd minima de notas: 0\n",
            "MAE: 0.7577441353879087, RMSE: 0.9626812333469902\n",
            "Precision: 0.8838159317553766, Recall: 0.8862650602409639, F1-score: 0.8850388016603501\n",
            "Equação Pearson qtd de vizinhos: 30 qtd minima de notas: 20\n",
            "MAE: 0.7573159154063366, RMSE: 0.9621475749533995\n",
            "Precision: 0.8843193843193843, Recall: 0.8860240963855421, F1-score: 0.8851709195955705\n",
            "Equação Pearson qtd de vizinhos: 30 qtd minima de notas: 40\n",
            "MAE: 0.7572957188043801, RMSE: 0.9646023374231051\n",
            "Precision: 0.8831293496520278, Recall: 0.8867469879518072, F1-score: 0.8849344715642659\n",
            "Equação Pearson qtd de vizinhos: 30 qtd minima de notas: 60\n",
            "MAE: 0.7574073233267689, RMSE: 0.9659433380051288\n",
            "Precision: 0.8830143540669857, Recall: 0.8893975903614458, F1-score: 0.8861944777911165\n",
            "\n",
            "\n",
            "\n",
            "\n",
            "Media MAE: 0.7574407732313486 Media RMSE: 0.9638436209321559 Media Precision: 0.8835697549484436 Media Recall: 0.8871084337349397 Media F1-Score: 0.8853346676528258\n",
            "\n",
            "\n",
            "Equação Padrão qtd de vizinhos: 5 qtd minima de notas: 0\n",
            "MAE: 0.8199481447795134, RMSE: 1.0306882459309343\n",
            "Precision: 0.8948635634028892, Recall: 0.8060240963855422, F1-score: 0.8481237322515214\n",
            "Equação Padrão qtd de vizinhos: 5 qtd minima de notas: 20\n",
            "MAE: 0.8171282069756317, RMSE: 1.027493279240247\n",
            "Precision: 0.8941034897713598, Recall: 0.8056626506024096, F1-score: 0.8475822295455986\n",
            "Equação Padrão qtd de vizinhos: 5 qtd minima de notas: 40\n",
            "MAE: 0.81051359809974, RMSE: 1.0205340381506172\n",
            "Precision: 0.8986297725156313, Recall: 0.813855421686747, F1-score: 0.8541442751469938\n",
            "Equação Padrão qtd de vizinhos: 5 qtd minima de notas: 60\n",
            "MAE: 0.8052533043273995, RMSE: 1.017482963712644\n",
            "Precision: 0.898543046357616, Recall: 0.8173493975903614, F1-score: 0.85602523659306\n",
            "\n",
            "\n",
            "\n",
            "\n",
            "Media MAE: 0.8132108135455711 Media RMSE: 1.0240496317586107 Media Precision: 0.896534968011874 Media Recall: 0.810722891566265 Media F1-Score: 0.8514688683842935\n",
            "Equação Padrão qtd de vizinhos: 10 qtd minima de notas: 0\n",
            "MAE: 0.787705191816555, RMSE: 0.9913631121000968\n",
            "Precision: 0.8960351285031641, Recall: 0.8359036144578313, F1-score: 0.86492551268466\n",
            "Equação Padrão qtd de vizinhos: 10 qtd minima de notas: 20\n",
            "MAE: 0.7881659248072751, RMSE: 0.9904766194418981\n",
            "Precision: 0.8947029256347467, Recall: 0.8363855421686747, F1-score: 0.8645619278909022\n",
            "Equação Padrão qtd de vizinhos: 10 qtd minima de notas: 40\n",
            "MAE: 0.7823013498899524, RMSE: 0.9858684133392757\n",
            "Precision: 0.8974987106756059, Recall: 0.8386746987951808, F1-score: 0.8670901843547584\n",
            "Equação Padrão qtd de vizinhos: 10 qtd minima de notas: 60\n",
            "MAE: 0.7786565154063845, RMSE: 0.9804709291136928\n",
            "Precision: 0.8970360824742268, Recall: 0.8386746987951808, F1-score: 0.8668742216687423\n",
            "\n",
            "\n",
            "\n",
            "\n",
            "Media MAE: 0.7842072454800417 Media RMSE: 0.9870447684987409 Media Precision: 0.8963182118219359 Media Recall: 0.8374096385542169 Media F1-Score: 0.8658629616497657\n",
            "Equação Padrão qtd de vizinhos: 15 qtd minima de notas: 0\n",
            "MAE: 0.7790397735321252, RMSE: 0.9803810311703643\n",
            "Precision: 0.8919499557689877, Recall: 0.8503614457831326, F1-score: 0.8706593474372416\n",
            "Equação Padrão qtd de vizinhos: 15 qtd minima de notas: 20\n",
            "MAE: 0.7791694234787072, RMSE: 0.978643616691697\n",
            "Precision: 0.8934260429835651, Recall: 0.8514457831325302, F1-score: 0.8719309068476249\n",
            "Equação Padrão qtd de vizinhos: 15 qtd minima de notas: 40\n",
            "MAE: 0.7741483591940166, RMSE: 0.9757628576055056\n",
            "Precision: 0.8946901533392473, Recall: 0.8506024096385543, F1-score: 0.8720894324007165\n",
            "Equação Padrão qtd de vizinhos: 15 qtd minima de notas: 60\n",
            "MAE: 0.77233023919659, RMSE: 0.974611903061432\n",
            "Precision: 0.8951429294206932, Recall: 0.8526506024096385, F1-score: 0.8733802295446131\n",
            "\n",
            "\n",
            "\n",
            "\n",
            "Media MAE: 0.7761719488503598 Media RMSE: 0.9773498521322497 Media Precision: 0.8938022703781233 Media Recall: 0.8512650602409639 Media F1-Score: 0.872014979057549\n",
            "Equação Padrão qtd de vizinhos: 20 qtd minima de notas: 0\n",
            "MAE: 0.774929332968475, RMSE: 0.976170584125373\n",
            "Precision: 0.8900687070580887, Recall: 0.858433734939759, F1-score: 0.8739650413983441\n",
            "Equação Padrão qtd de vizinhos: 20 qtd minima de notas: 20\n",
            "MAE: 0.7745726844523801, RMSE: 0.9749488589365989\n",
            "Precision: 0.89125, Recall: 0.8590361445783132, F1-score: 0.8748466257668711\n",
            "Equação Padrão qtd de vizinhos: 20 qtd minima de notas: 40\n",
            "MAE: 0.7720435233623106, RMSE: 0.9747350949454747\n",
            "Precision: 0.890007457121551, Recall: 0.8627710843373494, F1-score: 0.8761776581426648\n",
            "Equação Padrão qtd de vizinhos: 20 qtd minima de notas: 60\n",
            "MAE: 0.7697560784679219, RMSE: 0.9734793553026503\n",
            "Precision: 0.8882272670884506, Recall: 0.8626506024096385, F1-score: 0.8752521239533037\n",
            "\n",
            "\n",
            "\n",
            "\n",
            "Media MAE: 0.772825404812772 Media RMSE: 0.9748334733275242 Media Precision: 0.8898883578170226 Media Recall: 0.860722891566265 Media F1-Score: 0.8750603623152959\n",
            "Equação Padrão qtd de vizinhos: 25 qtd minima de notas: 0\n",
            "MAE: 0.7726627853163942, RMSE: 0.9745214586497759\n",
            "Precision: 0.8869362172790954, Recall: 0.8695180722891567, F1-score: 0.8781407799476789\n",
            "Equação Padrão qtd de vizinhos: 25 qtd minima de notas: 20\n",
            "MAE: 0.7727438103781031, RMSE: 0.9740985470721512\n",
            "Precision: 0.8876307692307692, Recall: 0.8689156626506024, F1-score: 0.8781735159817351\n",
            "Equação Padrão qtd de vizinhos: 25 qtd minima de notas: 40\n",
            "MAE: 0.7722669371667206, RMSE: 0.9749692520625471\n",
            "Precision: 0.8868806098610599, Recall: 0.8690361445783132, F1-score: 0.8778677052272865\n",
            "Equação Padrão qtd de vizinhos: 25 qtd minima de notas: 60\n",
            "MAE: 0.7693833980652429, RMSE: 0.9732706488538329\n",
            "Precision: 0.8859380736751927, Recall: 0.8721686746987952, F1-score: 0.878999453585089\n",
            "\n",
            "\n",
            "\n",
            "\n",
            "Media MAE: 0.7717642327316152 Media RMSE: 0.9742149766595767 Media Precision: 0.8868464175115294 Media Recall: 0.8699096385542169 Media F1-Score: 0.8782953636854474\n",
            "Equação Padrão qtd de vizinhos: 30 qtd minima de notas: 0\n",
            "MAE: 0.7723444898457, RMSE: 0.9752068963172457\n",
            "Precision: 0.8850238008055658, Recall: 0.8736144578313253, F1-score: 0.8792821196871401\n",
            "Equação Padrão qtd de vizinhos: 30 qtd minima de notas: 20\n",
            "MAE: 0.7725677926887311, RMSE: 0.9747576695596706\n",
            "Precision: 0.8854039541127654, Recall: 0.8740963855421687, F1-score: 0.8797138353340609\n",
            "Equação Padrão qtd de vizinhos: 30 qtd minima de notas: 40\n",
            "MAE: 0.7713538468184526, RMSE: 0.9756001031231725\n",
            "Precision: 0.8836049622962783, Recall: 0.8753012048192771, F1-score: 0.8794334826292217\n",
            "Equação Padrão qtd de vizinhos: 30 qtd minima de notas: 60\n",
            "MAE: 0.7707816335218103, RMSE: 0.976311354602728\n",
            "Precision: 0.8821605910136854, Recall: 0.8775903614457832, F1-score: 0.8798695415836203\n",
            "\n",
            "\n",
            "\n",
            "\n",
            "Media MAE: 0.7717619407186735 Media RMSE: 0.9754690059007042 Media Precision: 0.8840483270570737 Media Recall: 0.8751506024096386 Media F1-Score: 0.8795747448085107\n",
            "\n",
            "\n"
          ]
        }
      ],
      "source": [
        "import matplotlib.pyplot as plt\n",
        "# Valores dos eixos\n",
        "\n",
        "nomes = [\"Cosseno\", \"Pearson\", \"Padrão\"]\n",
        "data_validationC = pd.DataFrame({\"Nome\": nomes,\n",
        "                                \"Matrizes\": pam_calc})\n",
        "for i, info in data_validationC.iterrows():\n",
        "  for j in range(5,31,5):\n",
        "    MAE = []\n",
        "    RMSE = []\n",
        "    precisao = []\n",
        "    recalla = []\n",
        "    f1_scorea = []\n",
        "    \n",
        "    for k in range(0, 70, 20):\n",
        "      print(\"Equação\", info.Nome, \"qtd de vizinhos:\", j, \"qtd minima de notas:\", k)\n",
        "      mae, rmse, precision, recall, f1_score = taxa_erro(info.Matrizes, matriz, X_val, k, j)\n",
        "      MAE.append(mae)\n",
        "      RMSE.append(rmse)\n",
        "      precisao.append(precision)\n",
        "      recalla.append(recall)\n",
        "      f1_scorea.append(f1_score)\n",
        "    print(\"\\n\")\n",
        "    mean_mae = np.mean(MAE)\n",
        "    mean_rmse = np.mean(RMSE)\n",
        "    mean_precision = np.mean(precisao)\n",
        "    mean_recall = np.mean(recalla)\n",
        "    mean_f1_score = np.mean(f1_scorea)\n",
        "    print(\"\\n\")\n",
        "    print(\"Media MAE:\", mean_mae, \"Media RMSE:\", mean_rmse, \"Media Precision:\", mean_precision, \"Media Recall:\", mean_recall, \"Media F1-Score:\", mean_f1_score)\n",
        "    \n",
        "    # Converter para numpy arrays para facilitar a manipulação\n",
        "  MAE = np.array(MAE)\n",
        "  RMSE = np.array(RMSE)\n",
        "  precision = np.array(precision)\n",
        "  recall = np.array(recall)\n",
        "  f1_score = np.array(f1_score)\n",
        "\n",
        "  print(\"\\n\")\n"
      ]
    }
  ],
  "metadata": {
    "colab": {
      "provenance": []
    },
    "kernelspec": {
      "display_name": "Python 3",
      "name": "python3"
    },
    "language_info": {
      "codemirror_mode": {
        "name": "ipython",
        "version": 3
      },
      "file_extension": ".py",
      "mimetype": "text/x-python",
      "name": "python",
      "nbconvert_exporter": "python",
      "pygments_lexer": "ipython3",
      "version": "3.10.12"
    }
  },
  "nbformat": 4,
  "nbformat_minor": 0
}
