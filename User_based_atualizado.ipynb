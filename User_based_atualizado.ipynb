{
  "cells": [
    {
      "cell_type": "code",
      "execution_count": 2,
      "metadata": {
        "colab": {
          "base_uri": "https://localhost:8080/",
          "height": 74
        },
        "id": "GZppVMVjxFY7",
        "outputId": "ed9a25d4-41a8-42f9-a0c7-a100d1a0ef1e"
      },
      "outputs": [],
      "source": [
        "import pandas as pd\n",
        "\n",
        "from sklearn.model_selection import train_test_split\n",
        "import numpy as np\n",
        "import math\n",
        "\n"
      ]
    },
    {
      "cell_type": "code",
      "execution_count": 3,
      "metadata": {
        "colab": {
          "base_uri": "https://localhost:8080/",
          "height": 424
        },
        "id": "osFSMgVk-IVX",
        "outputId": "9f306200-83e7-47da-d156-5d068e7d70d4"
      },
      "outputs": [
        {
          "data": {
            "text/html": [
              "<div>\n",
              "<style scoped>\n",
              "    .dataframe tbody tr th:only-of-type {\n",
              "        vertical-align: middle;\n",
              "    }\n",
              "\n",
              "    .dataframe tbody tr th {\n",
              "        vertical-align: top;\n",
              "    }\n",
              "\n",
              "    .dataframe thead th {\n",
              "        text-align: right;\n",
              "    }\n",
              "</style>\n",
              "<table border=\"1\" class=\"dataframe\">\n",
              "  <thead>\n",
              "    <tr style=\"text-align: right;\">\n",
              "      <th></th>\n",
              "      <th>id_user</th>\n",
              "      <th>id_item</th>\n",
              "      <th>ratings</th>\n",
              "      <th>timestamp</th>\n",
              "    </tr>\n",
              "  </thead>\n",
              "  <tbody>\n",
              "    <tr>\n",
              "      <th>54090</th>\n",
              "      <td>736</td>\n",
              "      <td>248</td>\n",
              "      <td>4</td>\n",
              "      <td>878709365</td>\n",
              "    </tr>\n",
              "    <tr>\n",
              "      <th>12888</th>\n",
              "      <td>323</td>\n",
              "      <td>713</td>\n",
              "      <td>4</td>\n",
              "      <td>878739299</td>\n",
              "    </tr>\n",
              "    <tr>\n",
              "      <th>92711</th>\n",
              "      <td>85</td>\n",
              "      <td>715</td>\n",
              "      <td>4</td>\n",
              "      <td>882995967</td>\n",
              "    </tr>\n",
              "    <tr>\n",
              "      <th>2231</th>\n",
              "      <td>160</td>\n",
              "      <td>187</td>\n",
              "      <td>5</td>\n",
              "      <td>876770168</td>\n",
              "    </tr>\n",
              "    <tr>\n",
              "      <th>57089</th>\n",
              "      <td>405</td>\n",
              "      <td>708</td>\n",
              "      <td>1</td>\n",
              "      <td>885546487</td>\n",
              "    </tr>\n",
              "    <tr>\n",
              "      <th>...</th>\n",
              "      <td>...</td>\n",
              "      <td>...</td>\n",
              "      <td>...</td>\n",
              "      <td>...</td>\n",
              "    </tr>\n",
              "    <tr>\n",
              "      <th>64995</th>\n",
              "      <td>429</td>\n",
              "      <td>972</td>\n",
              "      <td>4</td>\n",
              "      <td>882387757</td>\n",
              "    </tr>\n",
              "    <tr>\n",
              "      <th>55210</th>\n",
              "      <td>685</td>\n",
              "      <td>873</td>\n",
              "      <td>2</td>\n",
              "      <td>879451401</td>\n",
              "    </tr>\n",
              "    <tr>\n",
              "      <th>66460</th>\n",
              "      <td>896</td>\n",
              "      <td>76</td>\n",
              "      <td>3</td>\n",
              "      <td>887158359</td>\n",
              "    </tr>\n",
              "    <tr>\n",
              "      <th>50788</th>\n",
              "      <td>721</td>\n",
              "      <td>1392</td>\n",
              "      <td>3</td>\n",
              "      <td>877137598</td>\n",
              "    </tr>\n",
              "    <tr>\n",
              "      <th>60143</th>\n",
              "      <td>798</td>\n",
              "      <td>155</td>\n",
              "      <td>3</td>\n",
              "      <td>875639581</td>\n",
              "    </tr>\n",
              "  </tbody>\n",
              "</table>\n",
              "<p>79992 rows × 4 columns</p>\n",
              "</div>"
            ],
            "text/plain": [
              "       id_user  id_item  ratings  timestamp\n",
              "54090      736      248        4  878709365\n",
              "12888      323      713        4  878739299\n",
              "92711       85      715        4  882995967\n",
              "2231       160      187        5  876770168\n",
              "57089      405      708        1  885546487\n",
              "...        ...      ...      ...        ...\n",
              "64995      429      972        4  882387757\n",
              "55210      685      873        2  879451401\n",
              "66460      896       76        3  887158359\n",
              "50788      721     1392        3  877137598\n",
              "60143      798      155        3  875639581\n",
              "\n",
              "[79992 rows x 4 columns]"
            ]
          },
          "execution_count": 3,
          "metadata": {},
          "output_type": "execute_result"
        }
      ],
      "source": [
        "columnts = ['id_user', 'id_item', 'ratings', 'timestamp']\n",
        "\n",
        "df= pd.read_csv('u.data', sep ='\\t', header = None, names = columnts, index_col = False)\n",
        "\n",
        "\n",
        "X_train, X_test= train_test_split(df, test_size=0.1, random_state=42)\n",
        "X_base, X_val, = train_test_split(X_train, test_size=0.1112, random_state=62)\n",
        "\n",
        "Media_notas = df[\"ratings\"].sum()/len(df)\n",
        "row = np.max(df['id_user'])\n",
        "col = np.max(df['id_item'])\n",
        "\n",
        "X_base"
      ]
    },
    {
      "cell_type": "code",
      "execution_count": 4,
      "metadata": {
        "id": "Wi6KYRGCCp2w"
      },
      "outputs": [],
      "source": [
        "def m_base(data):\n",
        "  matriz = np.zeros((row, col), float)\n",
        "  for i, info in data.iterrows():\n",
        "    user = info.id_user -1;\n",
        "    item = info.id_item -1;\n",
        "    matriz[user][item] = info.ratings\n",
        "  matriz\n",
        "  return matriz"
      ]
    },
    {
      "cell_type": "code",
      "execution_count": 5,
      "metadata": {
        "colab": {
          "base_uri": "https://localhost:8080/"
        },
        "id": "LPBxALBnN1R0",
        "outputId": "0c2f1306-e5fb-4897-db16-3f117b3089eb"
      },
      "outputs": [
        {
          "data": {
            "text/plain": [
              "array([[5., 3., 4., ..., 0., 0., 0.],\n",
              "       [4., 0., 0., ..., 0., 0., 0.],\n",
              "       [0., 0., 0., ..., 0., 0., 0.],\n",
              "       ...,\n",
              "       [5., 0., 0., ..., 0., 0., 0.],\n",
              "       [0., 0., 0., ..., 0., 0., 0.],\n",
              "       [0., 0., 0., ..., 0., 0., 0.]])"
            ]
          },
          "execution_count": 5,
          "metadata": {},
          "output_type": "execute_result"
        }
      ],
      "source": [
        "pam_calc = []\n",
        "matriz = m_base(X_base)\n",
        "matriz"
      ]
    },
    {
      "cell_type": "code",
      "execution_count": 6,
      "metadata": {
        "id": "YnwWabwFNyuy"
      },
      "outputs": [],
      "source": [
        "def M_user(matriz):\n",
        "  df_review = pd.DataFrame({\"qtd_notas\" : np.zeros(row, int),\n",
        "                         \"somatorio\" : np.zeros(row, float)})\n",
        "  for i in range(0, row):\n",
        "    for j in range(0, col):\n",
        "      if matriz[i][j] > 0:\n",
        "        df_review.iloc[i,0] += 1\n",
        "        df_review.iloc[i,1] += matriz[i][j]\n",
        "\n",
        "  u_medias = df_review['somatorio']/ df_review['qtd_notas']\n",
        "\n",
        "  return u_medias, df_review['qtd_notas']"
      ]
    },
    {
      "cell_type": "code",
      "execution_count": 7,
      "metadata": {
        "id": "USy-2K4eWELq"
      },
      "outputs": [],
      "source": [
        "medias, M_qtd = M_user(matriz)"
      ]
    },
    {
      "cell_type": "code",
      "execution_count": 8,
      "metadata": {
        "id": "CUJNj4e8K4mR"
      },
      "outputs": [],
      "source": [
        "def itens_comuns(u,v):\n",
        "  itens = []\n",
        "  sum = 0\n",
        "  for i in range(0, len(u)):\n",
        "    if u[i] != 0 and v[i] != 0:\n",
        "      itens.append(i)\n",
        "\n",
        "  return itens\n"
      ]
    },
    {
      "cell_type": "markdown",
      "metadata": {
        "id": "yHxXYM1nC-mq"
      },
      "source": [
        "# **Similaridade de Cosseno**"
      ]
    },
    {
      "cell_type": "code",
      "execution_count": 9,
      "metadata": {
        "id": "nyqa6A7bCrJU"
      },
      "outputs": [],
      "source": [
        "def calc_divisorCos(u,v):\n",
        "  sum_u = 0\n",
        "  sum_v = 0\n",
        "  itens_u = []\n",
        "  itens_v = []\n",
        "  for i in range(0, len(u)):\n",
        "    if u[i] != 0:\n",
        "      itens_u.append(i)\n",
        "    if v[i] != 0:\n",
        "     itens_v.append(i)\n",
        "\n",
        "  for j in itens_u:\n",
        "      sum_u += u[j]**2\n",
        "  for k in itens_v:\n",
        "      sum_v += v[k]**2\n",
        "\n",
        "  return sum_u*sum_v\n",
        "\n",
        "def similaridade_cosseno(matriz):\n",
        "  similaridade = np.zeros((row, row), float)\n",
        "\n",
        "  for i in range(0,row):\n",
        "    for j in range(i,row):\n",
        "      if(i==j):\n",
        "        similaridade[i,j] = 1\n",
        "        continue\n",
        "\n",
        "      sum = 0\n",
        "      a = matriz[i,0:]\n",
        "      b = matriz[j,0:]\n",
        "      itens_c = itens_comuns(a,b)\n",
        "      for k in itens_c:\n",
        "       sum += matriz[i][k]*matriz[j][k]\n",
        "\n",
        "      divisor = math.sqrt(calc_divisorCos(matriz[i,0:], matriz[j,0:]))\n",
        "      similaridade[i][j] = sum/divisor\n",
        "      similaridade[j][i] = similaridade[i][j]\n",
        "  return similaridade\n",
        "\n"
      ]
    },
    {
      "cell_type": "code",
      "execution_count": 10,
      "metadata": {
        "id": "pB_TkyCBtn8C"
      },
      "outputs": [],
      "source": [
        "similar_a = similaridade_cosseno(matriz)"
      ]
    },
    {
      "cell_type": "code",
      "execution_count": 11,
      "metadata": {
        "colab": {
          "base_uri": "https://localhost:8080/"
        },
        "id": "Q-JcTlA85zBx",
        "outputId": "eaf379a2-5cc9-4cca-90a5-924ac2e34d3c"
      },
      "outputs": [
        {
          "data": {
            "text/plain": [
              "array([[1.        , 0.12524512, 0.01675931, ..., 0.13183938, 0.09790009,\n",
              "        0.31355682],\n",
              "       [0.12524512, 1.        , 0.09461258, ..., 0.08821128, 0.16292235,\n",
              "        0.05478139],\n",
              "       [0.01675931, 0.09461258, 1.        , ..., 0.        , 0.12272133,\n",
              "        0.01369132],\n",
              "       ...,\n",
              "       [0.13183938, 0.08821128, 0.        , ..., 1.        , 0.03394827,\n",
              "        0.12493734],\n",
              "       [0.09790009, 0.16292235, 0.12272133, ..., 0.03394827, 1.        ,\n",
              "        0.11289456],\n",
              "       [0.31355682, 0.05478139, 0.01369132, ..., 0.12493734, 0.11289456,\n",
              "        1.        ]])"
            ]
          },
          "execution_count": 11,
          "metadata": {},
          "output_type": "execute_result"
        }
      ],
      "source": [
        "pam_calc.append(similar_a)\n",
        "pam_calc[0]"
      ]
    },
    {
      "cell_type": "markdown",
      "metadata": {
        "id": "J6NLGoP4R17Y"
      },
      "source": [
        "# **Similaridade De Pearson**"
      ]
    },
    {
      "cell_type": "code",
      "execution_count": 12,
      "metadata": {
        "id": "lzvaIHcfMzFV"
      },
      "outputs": [],
      "source": [
        "def calc_divisorPearson(u,v, mU, mV):\n",
        "  sum_u = 0\n",
        "  sum_v = 0\n",
        "  itens_k = []\n",
        "\n",
        "  itens_k = itens_comuns(u,v)\n",
        "  for j in itens_k:\n",
        "      sum_u += (u[j]-mU)**2\n",
        "      sum_v += (v[j]-mV)**2\n",
        "  return sum_u*sum_v\n",
        "\n",
        "def similaridade_pearson(matriz):\n",
        "  similaridade = np.zeros((row,row), float)\n",
        "  for i in range(0, row):\n",
        "    for j in range(i,row):\n",
        "      if(i==j):\n",
        "        similaridade[i,j] = 1\n",
        "        continue\n",
        "      parcial1 = 0\n",
        "      parcial2 = 0\n",
        "      a = matriz[i,0:]\n",
        "      b = matriz[j,0:]\n",
        "      itens_c = itens_comuns(a,b)\n",
        "\n",
        "      if(len(itens_c) == 0):\n",
        "        continue\n",
        "\n",
        "\n",
        "      for k in itens_c:\n",
        "        parcial1 += (matriz[i][k] - medias[i])*(matriz[j][k] - medias[j])\n",
        "\n",
        "      parcial2 = math.sqrt(calc_divisorPearson(matriz[i,0:], matriz[j,0:], medias[i], medias[j]))\n",
        "\n",
        "\n",
        "      similaridade[i][j] = 0 if math.isnan(parcial1/parcial2) else parcial1/parcial2\n",
        "      similaridade[j][i] = similaridade[i][j]\n",
        "  return similaridade\n"
      ]
    },
    {
      "cell_type": "code",
      "execution_count": 13,
      "metadata": {
        "colab": {
          "base_uri": "https://localhost:8080/"
        },
        "id": "mW4iE8uECy9s",
        "outputId": "dc5c969a-a7f3-4836-ccde-327345413348"
      },
      "outputs": [
        {
          "name": "stderr",
          "output_type": "stream",
          "text": [
            "/tmp/ipykernel_13797/1996271984.py:35: RuntimeWarning: invalid value encountered in scalar divide\n",
            "  similaridade[i][j] = 0 if math.isnan(parcial1/parcial2) else parcial1/parcial2\n"
          ]
        }
      ],
      "source": [
        "similar_b = similaridade_pearson(matriz)"
      ]
    },
    {
      "cell_type": "code",
      "execution_count": 14,
      "metadata": {
        "colab": {
          "base_uri": "https://localhost:8080/"
        },
        "id": "HM9GF-qRGnGA",
        "outputId": "db76f032-24f2-4c40-e2c3-1d476645ddf1"
      },
      "outputs": [
        {
          "data": {
            "text/plain": [
              "array([[ 1.        ,  0.35761538, -0.27342709, ...,  0.16257305,\n",
              "        -0.36017554,  0.23907972],\n",
              "       [ 0.35761538,  1.        ,  0.01868906, ...,  0.15506715,\n",
              "        -0.03715266,  0.63258794],\n",
              "       [-0.27342709,  0.01868906,  1.        , ...,  0.        ,\n",
              "         0.4202462 , -1.        ],\n",
              "       ...,\n",
              "       [ 0.16257305,  0.15506715,  0.        , ...,  1.        ,\n",
              "        -1.        ,  0.01924485],\n",
              "       [-0.36017554, -0.03715266,  0.4202462 , ..., -1.        ,\n",
              "         1.        ,  0.21800963],\n",
              "       [ 0.23907972,  0.63258794, -1.        , ...,  0.01924485,\n",
              "         0.21800963,  1.        ]])"
            ]
          },
          "execution_count": 14,
          "metadata": {},
          "output_type": "execute_result"
        }
      ],
      "source": [
        "pam_calc.append(similar_b)\n",
        "similar_b"
      ]
    },
    {
      "cell_type": "markdown",
      "metadata": {
        "id": "xbSx-Bq3cJ0T"
      },
      "source": [
        "# **Similaridade padrão**"
      ]
    },
    {
      "cell_type": "code",
      "execution_count": 15,
      "metadata": {
        "id": "9OaTtTuLw9aF"
      },
      "outputs": [],
      "source": [
        "def similaridade_ind(u,v):\n",
        "  itens = []\n",
        "  x = []\n",
        "  y = []\n",
        "  itens = itens_comuns(u,v)\n",
        "\n",
        "  if(len(itens) == 0):\n",
        "    return 0;\n",
        "  for j in itens:\n",
        "    x.append(u[j])\n",
        "    y.append(v[j])\n",
        " # print(x, \"\\n\", y)\n",
        "\n",
        "  return np.dot(x,y)/(np.linalg.norm(x)*np.linalg.norm(y))\n",
        "\n",
        "def similaridade_padrao(matriz_notas):\n",
        "  matriz_similar = np.zeros((row,row), float)\n",
        "  for i in range(0,row):\n",
        "    for j in range(i,row):\n",
        "      if(i==j):\n",
        "        matriz_similar[i,j] = 1\n",
        "        continue\n",
        "      sum = 0\n",
        "      a = matriz[i,:]\n",
        "      b = matriz[j,:]\n",
        "\n",
        "      matriz_similar[i][j] = similaridade_ind(a,b)\n",
        "      matriz_similar[j][i] = matriz_similar[i][j]\n",
        "  return matriz_similar"
      ]
    },
    {
      "cell_type": "code",
      "execution_count": 16,
      "metadata": {
        "id": "hYHpBxqb1qzZ"
      },
      "outputs": [],
      "source": [
        "similar_c = similaridade_padrao(matriz)"
      ]
    },
    {
      "cell_type": "code",
      "execution_count": 17,
      "metadata": {
        "id": "8hDiVHKwNMCh"
      },
      "outputs": [],
      "source": [
        "pam_calc.append(similar_c)\n"
      ]
    },
    {
      "cell_type": "markdown",
      "metadata": {
        "id": "BpW-4x4qbdf5"
      },
      "source": [
        "# **Previsão da classificação**"
      ]
    },
    {
      "cell_type": "code",
      "execution_count": 18,
      "metadata": {
        "id": "iOtgoaxYFWsd"
      },
      "outputs": [],
      "source": [
        "def viz_similar(m_similar, m_notas, item, user, min_notas, qtd):\n",
        "  viz = pd.DataFrame({\"u_viz\": m_similar[user,0:],\n",
        "                      \"id_viz\": np.arange(0, row, 1)})\n",
        "  viz_f = []\n",
        "  k = 0;\n",
        "  viz = viz[viz[\"id_viz\"] != user]\n",
        "  viz = viz.sort_values(by = \"u_viz\", ascending = False)\n",
        "  for i in viz[\"id_viz\"]:\n",
        "    if  M_qtd[i] > min_notas:\n",
        "      if(m_notas[i, item] != 0 and k<qtd):\n",
        "        viz_f.append(i)\n",
        "        k +=1\n",
        "\n",
        "  return viz_f"
      ]
    },
    {
      "cell_type": "code",
      "execution_count": 57,
      "metadata": {
        "id": "B1Hlzyu4EENW"
      },
      "outputs": [],
      "source": [
        "def prev_item(m_similar, m_notas,  item, user, min_notas, k):\n",
        "  calc = 0;\n",
        "  viz_s = []\n",
        "  viz_s = viz_similar(m_similar, m_notas, item, user, min_notas, k)\n",
        "  num = 0\n",
        "  divisor = 0\n",
        "\n",
        "  if len(viz_s) != k:\n",
        "    return medias[user]\n",
        "\n",
        "  for i in viz_s:\n",
        "    num += m_similar[user, i]*(m_notas[i, item] - medias[i])\n",
        "    divisor += abs(m_similar[user,i])\n",
        "    #print(num, divisor)\n",
        "\n",
        "\n",
        "  return medias[user] + num/divisor"
      ]
    },
    {
      "cell_type": "markdown",
      "metadata": {
        "id": "AK6AyXhtcAZR"
      },
      "source": [
        "# **Cálculo de MAE e RMSE**"
      ]
    },
    {
      "cell_type": "code",
      "execution_count": 56,
      "metadata": {
        "id": "U1kYrS_PiASZ"
      },
      "outputs": [],
      "source": [
        "def taxa_erro(m_similar, m_notas, gabarito, min_notas, viz = 5):\n",
        "\n",
        "  df_comp = pd.DataFrame({\"nota_prev\": np.zeros(len(gabarito), float),\n",
        "                          \"nota_real\": gabarito['ratings']})\n",
        "  sum_MAE= 0\n",
        "  sum_RMSE = 0\n",
        "  n = len(gabarito)\n",
        "  for i, info in gabarito.iterrows():\n",
        "    user = info.id_user -1\n",
        "    item = info.id_item -1\n",
        "    #print(\"usuario\", user, \"\\n item\", item)\n",
        "    y_p = prev_item(m_similar, m_notas, item, user, min_notas, viz,)\n",
        "    sum_MAE += abs(info.ratings - y_p )\n",
        "    sum_RMSE += (info.ratings - y_p)**2\n",
        "\n",
        "  MAE = sum_MAE/n\n",
        "  RMSE = math.sqrt(sum_RMSE/n)\n",
        "  print(MAE, RMSE )"
      ]
    },
    {
      "cell_type": "code",
      "execution_count": 59,
      "metadata": {},
      "outputs": [],
      "source": [
        "import pandas as pd\n",
        "import numpy as np\n",
        "import math\n",
        "\n",
        "\n",
        "def taxa_erro(m_similar, m_notas, gabarito, min_notas, viz=5, threshold=3):\n",
        "    df_comp = pd.DataFrame({\"nota_prev\": np.zeros(len(gabarito), float),\n",
        "                            \"nota_real\": gabarito['ratings']})\n",
        "    sum_MAE = 0\n",
        "    sum_RMSE = 0\n",
        "    n = len(gabarito)\n",
        "    TP = FP = TN = FN = 0\n",
        "    \n",
        "    for i, info in gabarito.iterrows():\n",
        "        user = info.id_user - 1\n",
        "        item = info.id_item - 1\n",
        "        y_p = prev_item(m_similar, m_notas, item, user, min_notas, viz)\n",
        "\n",
        "        if not math.isnan(y_p):\n",
        "            # Calculate errors for MAE and RMSE\n",
        "            sum_MAE += abs(info.ratings - y_p)\n",
        "            sum_RMSE += (info.ratings - y_p) ** 2\n",
        "                \n",
        "        \n",
        "        # Binarize the ratings based on the threshold\n",
        "        actual = info.ratings >= threshold\n",
        "        predicted = y_p >= threshold\n",
        "        \n",
        "        # Calculate TP, FP, TN, FN\n",
        "        if actual and predicted:\n",
        "            TP += 1\n",
        "        elif actual and not predicted:\n",
        "            FN += 1\n",
        "        elif not actual and predicted:\n",
        "            FP += 1\n",
        "        else:\n",
        "            TN += 1\n",
        "    \n",
        "    MAE = sum_MAE / n\n",
        "    RMSE = math.sqrt(sum_RMSE / n)\n",
        "    \n",
        "    # Calculate precision, recall, and F1-score\n",
        "    precision = TP / (TP + FP) if TP + FP > 0 else 0\n",
        "    recall = TP / (TP + FN) if TP + FN > 0 else 0\n",
        "    f1_score = 2 * (precision * recall) / (precision + recall) if precision + recall > 0 else 0\n",
        "    \n",
        "    print(f\"MAE: {MAE}, RMSE: {RMSE}\")\n",
        "    print(f\"Precision: {precision}, Recall: {recall}, F1-score: {f1_score}\")\n",
        "    return MAE, RMSE, precision, recall, f1_score\n"
      ]
    },
    {
      "cell_type": "code",
      "execution_count": 61,
      "metadata": {
        "colab": {
          "base_uri": "https://localhost:8080/"
        },
        "id": "GE1IZhTDAByx",
        "outputId": "a13f1eeb-f920-4416-f6e7-afb90817469d"
      },
      "outputs": [
        {
          "name": "stdout",
          "output_type": "stream",
          "text": [
            "Equação Cosseno qtd de vizinhos: 5 qtd minima de notas: 0\n",
            "MAE: 0.7818703252096126, RMSE: 0.9909355721630524\n",
            "Precision: 0.8964640040702111, Recall: 0.8491566265060241, F1-score: 0.872169285979458\n",
            "Equação Cosseno qtd de vizinhos: 5 qtd minima de notas: 20\n"
          ]
        }
      ],
      "source": [
        "import matplotlib.pyplot as plt\n",
        "# Valores dos eixos\n",
        "\n",
        "nomes = [\"Cosseno\", \"Pearson\", \"Padrão\"]\n",
        "data_validationC = pd.DataFrame({\"Nome\": nomes,\n",
        "                                \"Matrizes\": pam_calc})\n",
        "for i, info in data_validationC.iterrows():\n",
        "  for j in range(5,31,5):\n",
        "    MAE = []\n",
        "    RMSE = []\n",
        "    precisao = []\n",
        "    recalla = []\n",
        "    f1_scorea = []\n",
        "    \n",
        "    for k in range(0, 70, 20):\n",
        "      print(\"Equação\", info.Nome, \"qtd de vizinhos:\", j, \"qtd minima de notas:\", k)\n",
        "      mae, rmse, precision, recall, f1_score = taxa_erro(info.Matrizes, matriz, X_val, k, j)\n",
        "      MAE.append(mae)\n",
        "      RMSE.append(rmse)\n",
        "      precisao.append(precision)\n",
        "      recalla.append(recall)\n",
        "      f1_scorea.append(f1_score)\n",
        "    print(\"\\n\")\n",
        "    mean_mae = np.mean(MAE)\n",
        "    mean_rmse = np.mean(RMSE)\n",
        "    mean_precision = np.mean(precisao)\n",
        "    mean_recall = np.mean(recalla)\n",
        "    mean_f1_score = np.mean(f1_scorea)\n",
        "    print(\"\\n\")\n",
        "    print(\"Media MAE:\", mean_mae, \"Media RMSE:\", mean_rmse, \"Media Precision:\", mean_precision, \"Media Recall:\", mean_recall, \"Media F1-Score:\", mean_f1_score)\n",
        "    \n",
        "    # Converter para numpy arrays para facilitar a manipulação\n",
        "  MAE = np.array(MAE)\n",
        "  RMSE = np.array(RMSE)\n",
        "  precision = np.array(precision)\n",
        "  recall = np.array(recall)\n",
        "  f1_score = np.array(f1_score)\n",
        "\n",
        "  print(\"\\n\")\n"
      ]
    },
    {
      "cell_type": "code",
      "execution_count": null,
      "metadata": {},
      "outputs": [],
      "source": [
        "import matplotlib.pyplot as plt\n",
        "import numpy as np\n",
        "\n",
        "# Valores dos eixos\n",
        "k_values = list(range(5, 31, 5))  # Quantidade de vizinhos\n",
        "w_values = list(range(0, 70, 20))  # Quantidade mínima de avaliações\n",
        "\n",
        "# Arrays de métricas (exemplo de dados)\n",
        "MAE = [\n",
        "    [0.8, 0.7, 0.6, 0.5],\n",
        "    [0.75, 0.65, 0.55, 0.45],\n",
        "    [0.7, 0.6, 0.5, 0.4],\n",
        "    [0.65, 0.55, 0.45, 0.35],\n",
        "    [0.6, 0.5, 0.4, 0.3]\n",
        "]\n",
        "\n",
        "RMSE = [\n",
        "    [1.0, 0.9, 0.8, 0.7],\n",
        "    [0.95, 0.85, 0.75, 0.65],\n",
        "    [0.9, 0.8, 0.7, 0.6],\n",
        "    [0.85, 0.75, 0.65, 0.55],\n",
        "    [0.8, 0.7, 0.6, 0.5]\n",
        "]\n",
        "\n",
        "# Converter para numpy arrays para facilitar a manipulação\n",
        "MAE = np.array(MAE)\n",
        "RMSE = np.array(RMSE)\n",
        "\n",
        "# Criar o gráfico de contorno para MAE\n",
        "plt.figure(figsize=(12, 6))\n",
        "\n",
        "plt.subplot(1, 2, 1)\n",
        "contour_mae = plt.contourf(k_values, w_values, MAE.T, cmap='viridis')\n",
        "plt.colorbar(contour_mae)\n",
        "plt.title('MAE')\n",
        "plt.xlabel('Quantidade de Vizinhos (k)')\n",
        "plt.ylabel('Quantidade Mínima de Avaliações (w)')\n",
        "\n",
        "# Criar o gráfico de contorno para RMSE\n",
        "plt.subplot(1, 2, 2)\n",
        "contour_rmse = plt.contourf(k_values, w_values, RMSE.T, cmap='viridis')\n",
        "plt.colorbar(contour_rmse)\n",
        "plt.title('RMSE')\n",
        "plt.xlabel('Quantidade de Vizinhos (k)')\n",
        "plt.ylabel('Quantidade Mínima de Avaliações (w)')\n",
        "\n",
        "plt.tight_layout()\n",
        "plt.show()\n"
      ]
    }
  ],
  "metadata": {
    "colab": {
      "provenance": []
    },
    "kernelspec": {
      "display_name": "Python 3",
      "name": "python3"
    },
    "language_info": {
      "codemirror_mode": {
        "name": "ipython",
        "version": 3
      },
      "file_extension": ".py",
      "mimetype": "text/x-python",
      "name": "python",
      "nbconvert_exporter": "python",
      "pygments_lexer": "ipython3",
      "version": "3.10.12"
    }
  },
  "nbformat": 4,
  "nbformat_minor": 0
}
